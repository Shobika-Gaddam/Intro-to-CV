{
 "cells": [
  {
   "cell_type": "code",
   "execution_count": 1,
   "id": "d528eaa6",
   "metadata": {},
   "outputs": [
    {
     "name": "stdout",
     "output_type": "stream",
     "text": [
      "Requirement already satisfied: opencv-python in c:\\users\\shobi\\anaconda3\\lib\\site-packages (4.5.5.62)\n",
      "Requirement already satisfied: numpy>=1.17.3 in c:\\users\\shobi\\anaconda3\\lib\\site-packages (from opencv-python) (1.20.1)\n"
     ]
    }
   ],
   "source": [
    "!pip install opencv-python"
   ]
  },
  {
   "cell_type": "code",
   "execution_count": 2,
   "id": "7743b01a",
   "metadata": {},
   "outputs": [],
   "source": [
    "import cv2"
   ]
  },
  {
   "cell_type": "code",
   "execution_count": 3,
   "id": "e9ea1c81",
   "metadata": {},
   "outputs": [
    {
     "name": "stdout",
     "output_type": "stream",
     "text": [
      "4.5.5\n"
     ]
    }
   ],
   "source": [
    "print(cv2.__version__) "
   ]
  },
  {
   "cell_type": "code",
   "execution_count": 4,
   "id": "ecd5e0d8",
   "metadata": {},
   "outputs": [
    {
     "name": "stdout",
     "output_type": "stream",
     "text": [
      "[[255 255 255 ... 255 255 255]\n",
      " [255 255 255 ... 255 255 255]\n",
      " [255 255 255 ... 255 255 255]\n",
      " ...\n",
      " [255 255 255 ... 255 255 255]\n",
      " [255 255 255 ... 255 255 255]\n",
      " [255 255 255 ... 255 255 255]]\n"
     ]
    }
   ],
   "source": [
    "#0 - grayscale, 1 - colour, -1 - colour with alpha channel\n",
    "img = cv2.imread(\"chair.jpeg\",0)\n",
    "cv2.imshow('image',img) #to display the output, where image is window name and img is the image displayed\n",
    "cv2.waitKey(0) # output will wait until we close\n",
    "cv2.destroyAllWindows\n",
    "print(img) #matrix array of input image"
   ]
  },
  {
   "cell_type": "code",
   "execution_count": null,
   "id": "fbdc467a",
   "metadata": {},
   "outputs": [],
   "source": [
    "#Display for 10 sec\n",
    "img = cv2.imread(\"chair.jpeg\",1)\n",
    "cv2.imshow('image',img) \n",
    "cv2.waitKey(10000) \n",
    "cv2.destroyAllWindows\n",
    "cv2.imwrite('1.jpeg',1)"
   ]
  },
  {
   "cell_type": "code",
   "execution_count": null,
   "id": "a61fad7b",
   "metadata": {},
   "outputs": [],
   "source": [
    "# save a copy of the file after closing the window\n",
    "img_new = cv2.imread(\"chair.jpeg\",1)\n",
    "cv2.imshow('original', img_new)\n",
    "cv2.waitKey(0)\n",
    "cv2.destroyAllWindows()\n",
    "cv2.imwrite(\"2.jpeg\", img_new) # to save the image file with another name"
   ]
  },
  {
   "cell_type": "code",
   "execution_count": null,
   "id": "5a885233",
   "metadata": {},
   "outputs": [],
   "source": [
    "# if i press ESC key it will destroy all windows and if i press \"s\" key then it must be saved\n",
    "import cv2\n",
    "img=cv2.imread(\"chair.jpeg\",0)\n",
    "cv2.imshow('original', img)\n",
    "k = cv2.waitKey(0)\n",
    "if k==27: # 27 is the key value for ESC key\n",
    " cv2.destroyAllwindows()\n",
    "elif k ==ord('s'): # return an integer representing the unicode code point of the character\n",
    " cv2.imwrite('2.png', img)\n",
    " cv2.destroyAllWindows()"
   ]
  },
  {
   "cell_type": "code",
   "execution_count": null,
   "id": "12f1ba25",
   "metadata": {},
   "outputs": [],
   "source": [
    "#read a video from webcam\n",
    "import cv2\n",
    "cap = cv2.VideoCapture(0) # 0 or -1 is the index value of our inbuilt camera, if external camera then 1,2,3,4.... \n",
    "while(True):\n",
    " ret, frame = cap.read() # ret will save true or fale if frame has been captured or not \n",
    " cv2.imshow('frame', frame)\n",
    " if cv2.waitKey(10) & 0Xff ==ord('q'): # mask for 64 bit machine\n",
    " break\n",
    "cap.release()\n",
    "cv2.destroyAllWindows()"
   ]
  },
  {
   "cell_type": "code",
   "execution_count": null,
   "id": "713d0f80",
   "metadata": {},
   "outputs": [],
   "source": [
    "#change the color of the video to grayscale\n",
    "import cv2\n",
    "cap = cv2.VideoCapture(0)\n",
    "while(True):\n",
    " ret, frame = cap.read()\n",
    " gray = cv2.cvtColor(frame, cv2.COLOR_BGR2GRAY) # convret color to grayscale\n",
    " cv2.imshow('frame', gray) \n",
    " \n",
    " if cv2.waitKey(10) & 0Xff ==ord('q'):\n",
    " break\n",
    "cap.release()\n",
    "cv2.destroyAllWindows()"
   ]
  },
  {
   "cell_type": "code",
   "execution_count": null,
   "id": "73788df8",
   "metadata": {},
   "outputs": [],
   "source": [
    "#if the file name of the video or index of capturing device is wrong what will happen\n",
    "import cv2\n",
    "cap = cv2.VideoCapture(8)\n",
    "print(cap.isOpened())\n",
    "while(cap.isOpened()):\n",
    " ret, frame = cap.read()\n",
    " gray = cv2.cvtColor(frame, cv2.COLOR_BGR2GRAY)\n",
    " cv2.imshow('frame', gray)\n",
    " \n",
    " if cv2.waitKey(10) & 0Xff ==ord('q'): # if we increase the waitkey parameter video will get delayed\n",
    " break\n",
    "cap.release()\n",
    "cv2.destroyAllWindows()"
   ]
  },
  {
   "cell_type": "code",
   "execution_count": null,
   "id": "0fa1b778",
   "metadata": {},
   "outputs": [],
   "source": [
    "#Access the width and height properties of video\n",
    "import cv2\n",
    "cap = cv2.VideoCapture(0)\n",
    "print(cap.isOpened())\n",
    "while(cap.isOpened()):\n",
    " ret, frame = cap.read()\n",
    " windowWidth = frame.shape[1]\n",
    " windowHeight = frame.shape[0]\n",
    " print(windowWidth)\n",
    " print(windowHeight)\n",
    " \n",
    " gray = cv2.cvtColor(frame, cv2.COLOR_BGR2GRAY)\n",
    " cv2.imshow('frame', gray)\n",
    " \n",
    " if cv2.waitKey(10) & 0Xff ==ord('q'):\n",
    " break\n",
    "cap.release()\n",
    "cv2.destroyAllWindows()"
   ]
  },
  {
   "cell_type": "code",
   "execution_count": null,
   "id": "96278fd0",
   "metadata": {},
   "outputs": [],
   "source": []
  }
 ],
 "metadata": {
  "kernelspec": {
   "display_name": "Python 3",
   "language": "python",
   "name": "python3"
  },
  "language_info": {
   "codemirror_mode": {
    "name": "ipython",
    "version": 3
   },
   "file_extension": ".py",
   "mimetype": "text/x-python",
   "name": "python",
   "nbconvert_exporter": "python",
   "pygments_lexer": "ipython3",
   "version": "3.8.8"
  }
 },
 "nbformat": 4,
 "nbformat_minor": 5
}
